{
 "cells": [
  {
   "cell_type": "code",
   "execution_count": 3,
   "metadata": {},
   "outputs": [],
   "source": [
    "import pandas as pd"
   ]
  },
  {
   "cell_type": "markdown",
   "metadata": {},
   "source": [
    "## Data Exploration"
   ]
  },
  {
   "cell_type": "code",
   "execution_count": 6,
   "metadata": {},
   "outputs": [
    {
     "data": {
      "text/html": [
       "<div>\n",
       "<style scoped>\n",
       "    .dataframe tbody tr th:only-of-type {\n",
       "        vertical-align: middle;\n",
       "    }\n",
       "\n",
       "    .dataframe tbody tr th {\n",
       "        vertical-align: top;\n",
       "    }\n",
       "\n",
       "    .dataframe thead th {\n",
       "        text-align: right;\n",
       "    }\n",
       "</style>\n",
       "<table border=\"1\" class=\"dataframe\">\n",
       "  <thead>\n",
       "    <tr style=\"text-align: right;\">\n",
       "      <th></th>\n",
       "      <th>Aircraft Model</th>\n",
       "      <th>Empty Weight (kg)</th>\n",
       "      <th>Maximum Takeoff Weight (kg)</th>\n",
       "      <th>Maximum Landing Weight (kg)</th>\n",
       "      <th>Center of Gravity Limits</th>\n",
       "      <th>Wing Loading (kg/m²)</th>\n",
       "      <th>Tail Loading (kg/m²)</th>\n",
       "      <th>Fuel Capacity (liters)</th>\n",
       "      <th>Number of Passengers</th>\n",
       "      <th>Cargo Capacity (kg)</th>\n",
       "      <th>Maximum Altitude (ft)</th>\n",
       "      <th>Maximum Speed (knots)</th>\n",
       "      <th>Engine Type</th>\n",
       "      <th>Fuselage Length (m)</th>\n",
       "    </tr>\n",
       "  </thead>\n",
       "  <tbody>\n",
       "    <tr>\n",
       "      <th>0</th>\n",
       "      <td>Airbus A320</td>\n",
       "      <td>149968.187455</td>\n",
       "      <td>279525.090979</td>\n",
       "      <td>255896.490294</td>\n",
       "      <td>25%-35% of MAC</td>\n",
       "      <td>818.558281</td>\n",
       "      <td>124.788364</td>\n",
       "      <td>52538.236167</td>\n",
       "      <td>472</td>\n",
       "      <td>80061.732289</td>\n",
       "      <td>44470</td>\n",
       "      <td>658</td>\n",
       "      <td>Turbofan</td>\n",
       "      <td>41.726817</td>\n",
       "    </tr>\n",
       "    <tr>\n",
       "      <th>1</th>\n",
       "      <td>Boeing 777</td>\n",
       "      <td>140855.879891</td>\n",
       "      <td>145055.173915</td>\n",
       "      <td>143703.314584</td>\n",
       "      <td>15%-30% of MAC</td>\n",
       "      <td>366.423230</td>\n",
       "      <td>111.743182</td>\n",
       "      <td>298000.265987</td>\n",
       "      <td>257</td>\n",
       "      <td>27118.725192</td>\n",
       "      <td>31739</td>\n",
       "      <td>495</td>\n",
       "      <td>Turbofan</td>\n",
       "      <td>54.402799</td>\n",
       "    </tr>\n",
       "    <tr>\n",
       "      <th>2</th>\n",
       "      <td>Airbus A320</td>\n",
       "      <td>151024.598908</td>\n",
       "      <td>534343.948027</td>\n",
       "      <td>270662.904304</td>\n",
       "      <td>20%-35% of MAC</td>\n",
       "      <td>829.145903</td>\n",
       "      <td>138.672695</td>\n",
       "      <td>176299.254601</td>\n",
       "      <td>172</td>\n",
       "      <td>1002.209110</td>\n",
       "      <td>24398</td>\n",
       "      <td>585</td>\n",
       "      <td>Turboprop</td>\n",
       "      <td>28.864086</td>\n",
       "    </tr>\n",
       "    <tr>\n",
       "      <th>3</th>\n",
       "      <td>Airbus A320</td>\n",
       "      <td>180889.454772</td>\n",
       "      <td>815185.841349</td>\n",
       "      <td>183594.487162</td>\n",
       "      <td>15%-30% of MAC</td>\n",
       "      <td>290.845909</td>\n",
       "      <td>169.249463</td>\n",
       "      <td>51211.630194</td>\n",
       "      <td>444</td>\n",
       "      <td>75726.083545</td>\n",
       "      <td>26793</td>\n",
       "      <td>632</td>\n",
       "      <td>Turboprop</td>\n",
       "      <td>46.111611</td>\n",
       "    </tr>\n",
       "    <tr>\n",
       "      <th>4</th>\n",
       "      <td>Embraer E190</td>\n",
       "      <td>113855.173286</td>\n",
       "      <td>439094.342299</td>\n",
       "      <td>233683.883944</td>\n",
       "      <td>20%-35% of MAC</td>\n",
       "      <td>509.848919</td>\n",
       "      <td>32.282885</td>\n",
       "      <td>494662.501258</td>\n",
       "      <td>55</td>\n",
       "      <td>45268.322065</td>\n",
       "      <td>30982</td>\n",
       "      <td>663</td>\n",
       "      <td>Piston</td>\n",
       "      <td>80.394753</td>\n",
       "    </tr>\n",
       "  </tbody>\n",
       "</table>\n",
       "</div>"
      ],
      "text/plain": [
       "  Aircraft Model  Empty Weight (kg)  Maximum Takeoff Weight (kg)  \\\n",
       "0    Airbus A320      149968.187455                279525.090979   \n",
       "1     Boeing 777      140855.879891                145055.173915   \n",
       "2    Airbus A320      151024.598908                534343.948027   \n",
       "3    Airbus A320      180889.454772                815185.841349   \n",
       "4   Embraer E190      113855.173286                439094.342299   \n",
       "\n",
       "   Maximum Landing Weight (kg) Center of Gravity Limits  Wing Loading (kg/m²)  \\\n",
       "0                255896.490294           25%-35% of MAC            818.558281   \n",
       "1                143703.314584           15%-30% of MAC            366.423230   \n",
       "2                270662.904304           20%-35% of MAC            829.145903   \n",
       "3                183594.487162           15%-30% of MAC            290.845909   \n",
       "4                233683.883944           20%-35% of MAC            509.848919   \n",
       "\n",
       "   Tail Loading (kg/m²)  Fuel Capacity (liters)  Number of Passengers  \\\n",
       "0            124.788364            52538.236167                   472   \n",
       "1            111.743182           298000.265987                   257   \n",
       "2            138.672695           176299.254601                   172   \n",
       "3            169.249463            51211.630194                   444   \n",
       "4             32.282885           494662.501258                    55   \n",
       "\n",
       "   Cargo Capacity (kg)  Maximum Altitude (ft)  Maximum Speed (knots)  \\\n",
       "0         80061.732289                  44470                    658   \n",
       "1         27118.725192                  31739                    495   \n",
       "2          1002.209110                  24398                    585   \n",
       "3         75726.083545                  26793                    632   \n",
       "4         45268.322065                  30982                    663   \n",
       "\n",
       "  Engine Type  Fuselage Length (m)  \n",
       "0    Turbofan            41.726817  \n",
       "1    Turbofan            54.402799  \n",
       "2   Turboprop            28.864086  \n",
       "3   Turboprop            46.111611  \n",
       "4      Piston            80.394753  "
      ]
     },
     "execution_count": 6,
     "metadata": {},
     "output_type": "execute_result"
    }
   ],
   "source": [
    "df = pd.read_csv('data/aircraft_dataset.csv', index_col=0)\n",
    "df.head()"
   ]
  },
  {
   "cell_type": "code",
   "execution_count": 8,
   "metadata": {},
   "outputs": [
    {
     "name": "stdout",
     "output_type": "stream",
     "text": [
      "<class 'pandas.core.frame.DataFrame'>\n",
      "Index: 25000 entries, 0 to 24999\n",
      "Data columns (total 14 columns):\n",
      " #   Column                       Non-Null Count  Dtype  \n",
      "---  ------                       --------------  -----  \n",
      " 0   Aircraft Model               25000 non-null  object \n",
      " 1   Empty Weight (kg)            25000 non-null  float64\n",
      " 2   Maximum Takeoff Weight (kg)  25000 non-null  float64\n",
      " 3   Maximum Landing Weight (kg)  25000 non-null  float64\n",
      " 4   Center of Gravity Limits     25000 non-null  object \n",
      " 5   Wing Loading (kg/m²)         25000 non-null  float64\n",
      " 6   Tail Loading (kg/m²)         25000 non-null  float64\n",
      " 7   Fuel Capacity (liters)       25000 non-null  float64\n",
      " 8   Number of Passengers         25000 non-null  int64  \n",
      " 9   Cargo Capacity (kg)          25000 non-null  float64\n",
      " 10  Maximum Altitude (ft)        25000 non-null  int64  \n",
      " 11  Maximum Speed (knots)        25000 non-null  int64  \n",
      " 12  Engine Type                  25000 non-null  object \n",
      " 13  Fuselage Length (m)          25000 non-null  float64\n",
      "dtypes: float64(8), int64(3), object(3)\n",
      "memory usage: 2.9+ MB\n"
     ]
    }
   ],
   "source": [
    "df.info()"
   ]
  },
  {
   "cell_type": "code",
   "execution_count": 9,
   "metadata": {},
   "outputs": [
    {
     "data": {
      "text/plain": [
       "{'Airbus A320',\n",
       " 'Airbus A380',\n",
       " 'Beechcraft King Air 350',\n",
       " 'Boeing 737-800',\n",
       " 'Boeing 747-8',\n",
       " 'Boeing 777',\n",
       " 'Bombardier Global 6000',\n",
       " 'Cessna 172',\n",
       " 'Embraer E190',\n",
       " 'Gulfstream G650'}"
      ]
     },
     "execution_count": 9,
     "metadata": {},
     "output_type": "execute_result"
    }
   ],
   "source": [
    "set(df['Aircraft Model'])"
   ]
  }
 ],
 "metadata": {
  "kernelspec": {
   "display_name": ".venv",
   "language": "python",
   "name": "python3"
  },
  "language_info": {
   "codemirror_mode": {
    "name": "ipython",
    "version": 3
   },
   "file_extension": ".py",
   "mimetype": "text/x-python",
   "name": "python",
   "nbconvert_exporter": "python",
   "pygments_lexer": "ipython3",
   "version": "3.10.12"
  }
 },
 "nbformat": 4,
 "nbformat_minor": 2
}
